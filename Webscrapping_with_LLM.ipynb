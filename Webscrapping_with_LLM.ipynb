{
 "cells": [
  {
   "cell_type": "code",
   "execution_count": 1,
   "id": "fbd17539-f2f2-4059-bb5f-2e7b8f8892de",
   "metadata": {},
   "outputs": [
    {
     "name": "stderr",
     "output_type": "stream",
     "text": [
      "USER_AGENT environment variable not set, consider setting it to identify your requests.\n"
     ]
    }
   ],
   "source": [
    "# Load HTML\n",
    "import nest_asyncio\n",
    "import asyncio\n",
    "from langchain_community.document_loaders import AsyncChromiumLoader\n",
    "from langchain_community.document_transformers import BeautifulSoupTransformer\n",
    "# Allow nested use of asyncio.run()\n",
    "nest_asyncio.apply()\n",
    "loader = AsyncChromiumLoader(['https://en.wikipedia.org/wiki/India'])\n",
    "html = loader.load()"
   ]
  },
  {
   "cell_type": "code",
   "execution_count": 2,
   "id": "98ab56e7-5ce1-42c6-bc70-b1e5ab0c5087",
   "metadata": {},
   "outputs": [],
   "source": [
    "# Transform\n",
    "bs_transformer = BeautifulSoupTransformer()\n",
    "docs_transformed = bs_transformer.transform_documents(html, tags_to_extract=[\"span\"])"
   ]
  },
  {
   "cell_type": "code",
   "execution_count": 4,
   "id": "61cf0d3e-4ccd-478f-b94d-d9f3bdfe4dc3",
   "metadata": {},
   "outputs": [
    {
     "data": {
      "text/plain": [
       "\"Main menu Main page Contents Current events Random article About Wikipedia Contact us Donate Help Learn to edit Community portal Recent changes Upload file    Search Appearance Create account Log in Personal tools Create account Log in learn more Contributions Talk 1 Etymology 2 History Toggle History subsection 2.1 Ancient India 2.2 Medieval India 2.3 Early modern India 2.4 Modern India 3 Geography 4 Biodiversity 5 Politics and government Toggle Politics and government subsection 5.1 Politics 5.2 Government 5.3 Administrative divisions 5.3.1 States 5.3.2 Union territories 6 Foreign, economic and strategic relations 7 Economy Toggle Economy subsection 7.1 Industries 7.2 Energy 7.3 Socio-economic challenges 8 Demographics, languages and religion 9 Culture Toggle Culture subsection 9.1 Visual art 9.2 Architecture 9.3 Literature 9.4 Performing arts and media 9.5 Society 9.6 Education 9.7 Clothing 9.8 Cuisine 9.9 Sports and recreation 10 See also 11 Notes 12 References 13 Bibliography 14 External links Toggle the table of contents India 298 languages Acèh Адыгэбзэ Адыгабзэ Afrikaans Alemannisch አማርኛ Anarâškielâ अंगिका Ænglisc Аԥсшәа العربية Aragonés ܐܪܡܝܐ Արեւմտահայերէն Armãneashti Arpetan অসমীয়া Asturianu Atikamekw अवधी Avañe'ẽ Авар Aymar aru Azərbaycanca تۆرکجه Basa Bali বাংলা Banjar 閩南語 / Bân-lâm-gú Basa Banyumasan Башҡортса Беларуская Беларуская (тарашкевіца) भोजपुरी Bikol Central Bislama Български Boarisch བོད་ཡིག Bosanski Brezhoneg Буряад Català Чӑвашла Cebuano Čeština Chamoru Chavacano de Zamboanga Chi-Chewa ChiShona ChiTumbuka Corsu Cymraeg Dagbanli Dansk الدارجة Davvisámegiella Deitsch Deutsch ދިވެހިބަސް Diné bizaad Dolnoserbski डोटेली ཇོང་ཁ Eesti Ελληνικά Эрзянь Español Esperanto Estremeñu Euskara Eʋegbe فارسی Fiji Hindi Føroyskt Français Frysk Fulfulde Furlan Gaeilge Gaelg Gagauz Gàidhlig Galego ГӀалгӀай 贛語 Gĩkũyũ گیلکی ગુજરાતી 𐌲𐌿𐍄𐌹𐍃𐌺 गोंयची कोंकणी / Gõychi Konknni 客家語 / Hak-kâ-ngî Хальмг 한국어 Hausa Hawaiʻi Հայերեն हिन्दी Hornjoserbsce Hrvatski Ido Igbo Iloka\""
      ]
     },
     "execution_count": 4,
     "metadata": {},
     "output_type": "execute_result"
    }
   ],
   "source": [
    "docs_transformed[0].page_content[0:2000]"
   ]
  },
  {
   "cell_type": "code",
   "execution_count": 5,
   "id": "744f19be-b45a-416b-a0e9-c0c8aa7a54ef",
   "metadata": {},
   "outputs": [
    {
     "name": "stderr",
     "output_type": "stream",
     "text": [
      "USER_AGENT environment variable not set, consider setting it to identify your requests.\n",
      "Fetching pages: 100%|##########| 2/2 [00:00<00:00,  2.24it/s]\n"
     ]
    }
   ],
   "source": [
    "from langchain_community.document_loaders import AsyncHtmlLoader\n",
    "\n",
    "urls = [\"https://en.wikipedia.org/wiki/India\", \"https://lilianweng.github.io/posts/2023-06-23-agent/\"]\n",
    "loader = AsyncHtmlLoader(urls)\n",
    "docs = loader.load()"
   ]
  },
  {
   "cell_type": "code",
   "execution_count": 6,
   "id": "65b18ba8-6e39-4532-9d84-30ace946a662",
   "metadata": {},
   "outputs": [
    {
     "data": {
      "text/plain": [
       "'Jump to content\\n\\nMain menu\\n\\nMain menu\\n\\nmove to sidebar hide\\n\\nNavigation\\n\\n  * Main page\\n  * Contents\\n  * Current events\\n  * Random article\\n  * About Wikipedia\\n  * Contact us\\n  * Donate\\n\\nContribute\\n\\n  * Help\\n  * Learn to edit\\n  * Community portal\\n  * Recent changes\\n  * Upload file\\n\\nSearch\\n\\nSearch\\n\\nAppearance\\n\\n  * Create account\\n  * Log in\\n\\nPersonal tools\\n\\n  * Create account\\n  * Log in\\n\\nPages for logged out editors learn more\\n\\n  * Contributions\\n  * Talk\\n\\n## Contents\\n\\nmove to sidebar hide\\n\\n  * (Top)'"
      ]
     },
     "execution_count": 6,
     "metadata": {},
     "output_type": "execute_result"
    }
   ],
   "source": [
    "from langchain_community.document_transformers import Html2TextTransformer\n",
    "\n",
    "html2text = Html2TextTransformer()\n",
    "docs_transformed = html2text.transform_documents(docs)\n",
    "docs_transformed[0].page_content[0:500]"
   ]
  },
  {
   "cell_type": "code",
   "execution_count": 7,
   "id": "2fd935a4-4ddd-4563-a3f0-7dc5b1d95321",
   "metadata": {},
   "outputs": [],
   "source": [
    "import os\n",
    "from langchain_groq import ChatGroq\n",
    "groq_api_key = os.environ.get(\"GROQ_API_KEY\")"
   ]
  },
  {
   "cell_type": "code",
   "execution_count": 8,
   "id": "4cbc4d54-e951-4bfe-9e71-e4b83f796e08",
   "metadata": {},
   "outputs": [],
   "source": [
    "llm = ChatGroq(model=\"llama3-70b-8192\",max_tokens=1000)"
   ]
  },
  {
   "cell_type": "code",
   "execution_count": null,
   "id": "d7856b2b-ca45-473e-a151-fa26f5a42706",
   "metadata": {},
   "outputs": [],
   "source": [
    "# from langchain_community.chat_models import ChatOllama\n",
    "# llm = ChatOllama(model=\"llama3.1:8b\")"
   ]
  },
  {
   "cell_type": "code",
   "execution_count": 9,
   "id": "c0d9bef0-7e75-45ed-b08e-2bcb8831c2bb",
   "metadata": {},
   "outputs": [],
   "source": [
    "from langchain.chains import create_extraction_chain\n",
    "\n",
    "schema = {\n",
    "    \"properties\": {\n",
    "        \"news_article_title\": {\"type\": \"string\"},\n",
    "        \"news_article_summary\": {\"type\": \"string\"},\n",
    "    },\n",
    "    \"required\": [\"news_article_title\", \"news_article_summary\"],\n",
    "}\n",
    "\n",
    "\n",
    "def extract(content: str, schema: dict):\n",
    "    return create_extraction_chain(schema=schema, llm=llm).run(content)"
   ]
  },
  {
   "cell_type": "code",
   "execution_count": 12,
   "id": "0695a310-b708-4d6f-a4b5-699e981d2958",
   "metadata": {},
   "outputs": [
    {
     "name": "stderr",
     "output_type": "stream",
     "text": [
      "USER_AGENT environment variable not set, consider setting it to identify your requests.\n"
     ]
    },
    {
     "name": "stdout",
     "output_type": "stream",
     "text": [
      "Extracting content with LLM\n",
      "[{'news_article_summary': 'Main menu Main page Contents Current events Random '\n",
      "                          'article About Wikipedia Contact us Donate Help '\n",
      "                          'Learn to edit Community portal Recent changes '\n",
      "                          'Upload file    Search Appearance Create account Log '\n",
      "                          'in Personal tools Create account Log in learn more '\n",
      "                          'Contributions Talk 1 Etymology 2 History Toggle '\n",
      "                          'History subsection 2.1 Ancient India 2.2 Medieval '\n",
      "                          'India 2.3 Early modern India 2.4 Modern India 3 '\n",
      "                          'Geography 4 Biodiversity 5 Politics and government '\n",
      "                          'Toggle Politics and government subsection 5.1 '\n",
      "                          'Politics 5.2 Government 5.3 Administrative '\n",
      "                          'divisions 5.3.1 States 5.3.2 Union territories 6 '\n",
      "                          'Foreign, economic and strategic relations 7 Economy '\n",
      "                          'Toggle Economy subsection 7.1 Industries 7.2 Energy '\n",
      "                          '7.3 Socio-economic challenges 8 Demographics, '\n",
      "                          'languages and religion 9 Culture Toggle Culture '\n",
      "                          'subsection 9.1 Visual art 9.2 Architecture 9.3 '\n",
      "                          'Literature 9.4 Performing arts and media 9.5 '\n",
      "                          'Society 9.6 Education 9.7 Clothing 9.8 Cuisine 9.9 '\n",
      "                          'Sports and recreation 10 See also 11 Notes 12 '\n",
      "                          'References 13 Bibliography 14 External links Toggle '\n",
      "                          'the table of contents India 298 languages',\n",
      "  'news_article_title': 'India'}]\n"
     ]
    }
   ],
   "source": [
    "import pprint\n",
    "\n",
    "from langchain_text_splitters import RecursiveCharacterTextSplitter\n",
    "\n",
    "def scrape_with_playwright(urls, schema):\n",
    "    loader = AsyncChromiumLoader(urls)\n",
    "    docs = loader.load()\n",
    "    bs_transformer = BeautifulSoupTransformer()\n",
    "    docs_transformed = bs_transformer.transform_documents(\n",
    "        docs, tags_to_extract=[\"span\"]\n",
    "    )\n",
    "    print(\"Extracting content with LLM\")\n",
    "\n",
    "    # Grab the first 1000 tokens of the site\n",
    "    splitter = RecursiveCharacterTextSplitter.from_tiktoken_encoder(\n",
    "        chunk_size=1000, chunk_overlap=0\n",
    "    )\n",
    "    splits = splitter.split_documents(docs_transformed)\n",
    "\n",
    "    # Process the first split\n",
    "    extracted_content = extract(schema=schema, content=splits[0].page_content)\n",
    "    pprint.pprint(extracted_content)\n",
    "    return extracted_content\n",
    "\n",
    "urls = [\"https://en.wikipedia.org/wiki/India\"]\n",
    "extracted_content = scrape_with_playwright(urls, schema=schema)"
   ]
  },
  {
   "cell_type": "code",
   "execution_count": null,
   "id": "4a1961d1-9c0f-479d-9a54-a141b8eeae8b",
   "metadata": {},
   "outputs": [],
   "source": []
  },
  {
   "cell_type": "code",
   "execution_count": null,
   "id": "9cc079e3-a0ed-4ab5-9fd4-7793fefe2fc4",
   "metadata": {},
   "outputs": [],
   "source": []
  }
 ],
 "metadata": {
  "kernelspec": {
   "display_name": "Python 3 (ipykernel)",
   "language": "python",
   "name": "python3"
  },
  "language_info": {
   "codemirror_mode": {
    "name": "ipython",
    "version": 3
   },
   "file_extension": ".py",
   "mimetype": "text/x-python",
   "name": "python",
   "nbconvert_exporter": "python",
   "pygments_lexer": "ipython3",
   "version": "3.11.7"
  }
 },
 "nbformat": 4,
 "nbformat_minor": 5
}
